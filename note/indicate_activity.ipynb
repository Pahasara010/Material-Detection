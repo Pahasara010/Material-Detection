{
 "cells": [
  {
   "cell_type": "code",
   "execution_count": null,
   "metadata": {},
   "outputs": [],
   "source": [
    "import sys\n",
    "sys.path.insert(0, \"..\")\n",
    "\n",
    "import numpy as np\n",
    "import matplotlib.pyplot as plt\n",
    "import seaborn as sns\n",
    "\n",
    "from HAR.transformers import CSIMinMaxScaler\n",
    "from HAR.io import load_dataset\n",
    "\n",
    "sns.set_theme()\n",
    "\n",
    "# Load data\n",
    "X, y, nsamples, classnames, dim = load_dataset(\"/home/ravindu/Desktop/final/dataset/mat/HAR_complete.mat\")\n",
    "X = X.reshape(X.shape[0], *dim)\n",
    "X = CSIMinMaxScaler().fit_transform(X)\n",
    "\n",
    "rng = np.random.default_rng(seed=8)\n",
    "\n",
    "plt.figure(figsize=(13, 4), constrained_layout=True)\n",
    "for i in range(len(classnames)):\n",
    "    isample = nsamples[:i].sum() + rng.integers(0, nsamples[i])\n",
    "    sample = X[isample, :, :]\n",
    "    U, _, _ = np.linalg.svd(sample)\n",
    "    s = np.dot(U[:, 1], sample)\n",
    "    plt.subplot(2, 3, i + 1)  # Adjusted for 5 classes\n",
    "    plt.plot(s)\n",
    "    plt.ylim([-3, 3])\n",
    "    plt.title(classnames[i].title())\n",
    "    plt.text(1, 2.5, rf\"$\\sigma^2 = ${np.var(s):0.2f}\")\n",
    "    plt.xlabel(\"Time\")\n",
    "    plt.ylabel(\"\\n\\nAmplitude\")\n",
    "\n",
    "plt.suptitle(\"Second Principal Component\", fontweight=\"bold\")\n",
    "plt.show()\n",
    "\n",
    "U, _, _ = np.linalg.svd(X)\n",
    "pc2 = np.einsum(\"ijk,ij->ik\", X, U[:, :, 1])\n",
    "variances = np.var(pc2, axis=1)\n",
    "\n",
    "for i in range(len(classnames)):\n",
    "    xs = range(nsamples[:i].sum(), nsamples[: i + 1].sum())\n",
    "    plt.plot(xs, variances[xs], label=classnames[i])\n",
    "plt.xlabel(\"Samples\")\n",
    "plt.ylabel(r\"$\\sigma^2$\")\n",
    "plt.legend()\n",
    "plt.title(\"Variance of PC-2 across samples\", fontweight=\"bold\")\n",
    "plt.show()\n",
    "\n",
    "from sklearn.metrics import confusion_matrix, accuracy_score, classification_report\n",
    "from scipy.optimize import fmin\n",
    "\n",
    "y_actual = y.copy()\n",
    "y_actual[y_actual != 0] = 1  # \"empty\" is label 0, others are \"Activity\"\n",
    "\n",
    "def loss(th):\n",
    "    y_pred = np.zeros_like(variances)\n",
    "    y_pred[variances > th] = 1\n",
    "    return 1 - accuracy_score(y_actual, y_pred)\n",
    "\n",
    "th_opt = fmin(loss, np.array([0.1]))[0]\n",
    "\n",
    "print(\"Optimal threshold:\", th_opt)\n",
    "y_pred = np.zeros_like(variances)\n",
    "y_pred[variances > th_opt] = 1\n",
    "\n",
    "print(\"\\n> Accuracy score\")\n",
    "print(accuracy_score(y_actual, y_pred))\n",
    "print(\"\\n> Confusion matrix\")\n",
    "print(confusion_matrix(y_actual, y_pred))\n",
    "print(\"\\n> Classification Report :\")\n",
    "print(classification_report(y_actual, y_pred, target_names=[\"No Activity\", \"Activity\"]))"
   ]
  },
  {
   "cell_type": "code",
   "execution_count": null,
   "metadata": {},
   "outputs": [
    {
     "name": "stdout",
     "output_type": "stream",
     "text": [
      "Defaulting to user installation because normal site-packages is not writeable\n",
      "Looking in indexes: https://pypi.org/simple, https://www.piwheels.org/simple\n"
     ]
    }
   ],
   "source": [
    "pip install numba\n"
   ]
  }
 ],
 "metadata": {
  "kernelspec": {
   "display_name": "Python 3",
   "language": "python",
   "name": "python3"
  },
  "language_info": {
   "codemirror_mode": {
    "name": "ipython",
    "version": 3
   },
   "file_extension": ".py",
   "mimetype": "text/x-python",
   "name": "python",
   "nbconvert_exporter": "python",
   "pygments_lexer": "ipython3",
   "version": "3.9.13"
  },
  "orig_nbformat": 4
 },
 "nbformat": 4,
 "nbformat_minor": 2
}
