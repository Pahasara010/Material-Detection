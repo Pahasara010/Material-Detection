{
 "cells": [
  {
   "cell_type": "code",
   "execution_count": null,
   "metadata": {
    "vscode": {
     "languageId": "plaintext"
    }
   },
   "outputs": [],
   "source": [
    "import sys\n",
    "sys.path.insert(0, \"..\")\n",
    "\n",
    "from sklearn.manifold import TSNE\n",
    "import matplotlib.pyplot as plt\n",
    "import numpy as np\n",
    "import seaborn as sns\n",
    "\n",
    "from HAR.transformers import CSIMinMaxScaler\n",
    "from HAR.io import load_dataset\n",
    "\n",
    "sns.set_theme()\n",
    "\n",
    "def get_coords_embedded(X):\n",
    "    tsne = TSNE(\n",
    "        n_components=2,\n",
    "        perplexity=25,\n",
    "        n_iter=5000,\n",
    "        n_iter_without_progress=300,\n",
    "        random_state=3,\n",
    "        n_jobs=-1,\n",
    "    )\n",
    "    Xemb = tsne.fit_transform(X)\n",
    "    return Xemb[:, 0], Xemb[:, 1]\n",
    "\n",
    "# Load data\n",
    "X, y, nsamples, classnames, dim = load_dataset(\"/home/ravindu/Desktop/final/dataset/mat/HAR_complete.mat\")\n",
    "scaler = CSIMinMaxScaler()\n",
    "X = X.reshape(X.shape[0], *dim)\n",
    "X = scaler.fit_transform(X)\n",
    "X = X.reshape(X.shape[0], dim[0] * dim[1])\n",
    "\n",
    "xc, yc = get_coords_embedded(X)\n",
    "\n",
    "plt.figure(figsize=(6, 6), constrained_layout=True)\n",
    "for i in range(len(classnames)):\n",
    "    plt.scatter(\n",
    "        xc[np.sum(nsamples[:i]) : np.sum(nsamples[: i + 1])],\n",
    "        yc[np.sum(nsamples[:i]) : np.sum(nsamples[: i + 1])],\n",
    "        label=classnames[i],\n",
    "    )\n",
    "    plt.xlabel(r\"$X_{emb}$\")\n",
    "    plt.ylabel(r\"$Y_{emb}$\")\n",
    "    plt.legend()\n",
    "    plt.title(\"HAR Complete\")\n",
    "\n",
    "plt.suptitle(\"t-SNE Visualization\", fontweight=\"bold\")\n",
    "plt.show()"
   ]
  }
 ],
 "metadata": {
  "kernelspec": {
   "display_name": ".venv",
   "language": "python",
   "name": "python3"
  },
  "language_info": {
   "codemirror_mode": {
    "name": "ipython",
    "version": 3
   },
   "file_extension": ".py",
   "mimetype": "text/x-python",
   "name": "python",
   "nbconvert_exporter": "python",
   "pygments_lexer": "ipython3",
   "version": "3.8.10"
  },
  "orig_nbformat": 4,
  "vscode": {
   "interpreter": {
    "hash": "d111a7ea1dccca6dda88b46d85d4eac72004b0f2933ad4df4e8d6f381eafae59"
   }
  }
 },
 "nbformat": 4,
 "nbformat_minor": 2
}
