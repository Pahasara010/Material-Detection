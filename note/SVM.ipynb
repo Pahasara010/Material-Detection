{
 "cells": [
  {
   "cell_type": "code",
   "execution_count": null,
   "metadata": {
    "vscode": {
     "languageId": "plaintext"
    }
   },
   "outputs": [],
   "source": [
    "import sys\n",
    "sys.path.insert(0, \"..\")\n",
    "\n",
    "from sklearn import svm\n",
    "from sklearn.metrics import accuracy_score, confusion_matrix, classification_report\n",
    "from sklearn.model_selection import train_test_split\n",
    "\n",
    "from HAR.transformers import CSIMinMaxScaler\n",
    "from HAR.io import load_dataset\n",
    "\n",
    "# Load data\n",
    "X, y, _, classnames, dim = load_dataset(\"/home/ravindu/Desktop/final/dataset/mat/HAR_complete.mat\")\n",
    "X = X.reshape(X.shape[0], *dim)\n",
    "X = CSIMinMaxScaler().fit_transform(X)\n",
    "X = X.reshape(X.shape[0], dim[0] * dim[1])\n",
    "\n",
    "X_train, X_test, y_train, y_test = train_test_split(X, y, test_size=0.2, random_state=42, stratify=y)\n",
    "\n",
    "# Train an SVM classifier\n",
    "clf = svm.SVC(kernel=\"rbf\", decision_function_shape=\"ovo\")\n",
    "clf.fit(X_train, y_train)\n",
    "\n",
    "# Predict on test data\n",
    "y_pred = clf.predict(X_test)\n",
    "\n",
    "print(f\"\\n> Test Accuracy: {accuracy_score(y_test, y_pred)*100:.4f}%\")\n",
    "print(\"\\n> Confusion Matrix: \")\n",
    "print(confusion_matrix(y_test, y_pred))\n",
    "print(\"\\n> Classification Report :\")\n",
    "print(classification_report(y_test, y_pred, target_names=classnames))"
   ]
  }
 ],
 "metadata": {
  "kernelspec": {
   "display_name": ".venv",
   "language": "python",
   "name": "python3"
  },
  "language_info": {
   "codemirror_mode": {
    "name": "ipython",
    "version": 3
   },
   "file_extension": ".py",
   "mimetype": "text/x-python",
   "name": "python",
   "nbconvert_exporter": "python",
   "pygments_lexer": "ipython3",
   "version": "3.8.10"
  },
  "orig_nbformat": 4
 },
 "nbformat": 4,
 "nbformat_minor": 2
}
