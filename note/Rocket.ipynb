{
 "cells": [
  {
   "cell_type": "code",
   "execution_count": null,
   "metadata": {
    "vscode": {
     "languageId": "plaintext"
    }
   },
   "outputs": [],
   "source": [
    "import sys\n",
    "sys.path.insert(0, \"..\")\n",
    "\n",
    "from joblib import Parallel, delayed\n",
    "import numpy as np\n",
    "from sklearn.pipeline import Pipeline\n",
    "from sklearn.model_selection import train_test_split\n",
    "from sklearn.metrics import confusion_matrix, accuracy_score, classification_report\n",
    "import matplotlib.pyplot as plt\n",
    "import seaborn as sns\n",
    "\n",
    "from HAR.transformers import CSIMinMaxScaler, Rocket\n",
    "from HAR.classifiers import RidgeVotingClassifier\n",
    "from HAR.io import load_dataset\n",
    "\n",
    "class RidgeVotingClassifierExt(RidgeVotingClassifier):\n",
    "    def __init__(self, *args, **kwargs) -> None:\n",
    "        super().__init__(*args, **kwargs)\n",
    "\n",
    "    def predict(self, X):\n",
    "        n_samples, n_sc, *_ = X.shape\n",
    "        final_predictions = np.zeros((n_samples,))\n",
    "        disagree_sc = []\n",
    "        for isample in range(n_samples):\n",
    "            predictions = Parallel(n_jobs=1, backend=\"threading\")(\n",
    "                delayed(self._score)(\n",
    "                    self._models[m_], np.expand_dims(X[isample, m_, :], axis=0)\n",
    "                )\n",
    "                for m_ in range(n_sc)\n",
    "            )\n",
    "            predictions = np.array(predictions).squeeze()\n",
    "            unique, counts = np.unique(predictions, return_counts=True)\n",
    "            best = unique[np.argmax(counts)]\n",
    "            final_predictions[isample] = best\n",
    "            disagree_sc.extend(list(np.where(predictions != best)))\n",
    "        return final_predictions, disagree_sc\n",
    "\n",
    "pipe = Pipeline(\n",
    "    [\n",
    "        (\"scaler\", CSIMinMaxScaler()),\n",
    "        (\"rocket\", Rocket(n_kernels=500)),\n",
    "        (\"classifier\", RidgeVotingClassifierExt(n_classes=5)),  # Updated for 5 classes\n",
    "    ]\n",
    ")\n",
    "\n",
    "# Load data\n",
    "X, y, nsamples, classnames, dim = load_dataset(\"/home/ravindu/Desktop/final/dataset/mat/HAR_complete.mat\")\n",
    "X = X.reshape(X.shape[0], *dim)\n",
    "\n",
    "X_train, X_test, y_train, y_test = train_test_split(X, y, train_size=0.8, stratify=y)\n",
    "\n",
    "pipe.fit_transform(X_train, y_train)\n",
    "pipe[\"rocket\"].save(\"../artifacts/nbs-v1/kernels.pkl\")\n",
    "pipe[\"classifier\"].save(\"../artifacts/nbs-v1/models.pkl\")\n",
    "\n",
    "y_pred, disagree_sc1 = pipe.predict(X_test)\n",
    "\n",
    "print(f\"\\n> Test Accuracy: {accuracy_score(y_test, y_pred)*100:.4f}%\")\n",
    "print(\"\\n> Confusion Matrix: \")\n",
    "print(confusion_matrix(y_test, y_pred))\n",
    "print(\"\\n> Classification Report :\")\n",
    "print(classification_report(y_test, y_pred, target_names=classnames))\n",
    "\n",
    "sns.set_theme()\n",
    "hist_kwargs = {\"bins\": 54, \"kde\": True, \"stat\": \"density\"}\n",
    "plt.figure(figsize=(8, 4), constrained_layout=True)\n",
    "sns.histplot(data=np.concatenate(disagree_sc1), **hist_kwargs, label=\"HAR_complete\")\n",
    "plt.ylabel(\"Disagreement Density\")\n",
    "plt.xlabel(\"Subcarriers\")\n",
    "plt.legend()\n",
    "plt.show()"
   ]
  }
 ],
 "metadata": {
  "kernelspec": {
   "display_name": ".venv",
   "language": "python",
   "name": "python3"
  },
  "language_info": {
   "codemirror_mode": {
    "name": "ipython",
    "version": 3
   },
   "file_extension": ".py",
   "mimetype": "text/x-python",
   "name": "python",
   "nbconvert_exporter": "python",
   "pygments_lexer": "ipython3",
   "version": "3.8.10"
  },
  "orig_nbformat": 4
 },
 "nbformat": 4,
 "nbformat_minor": 2
}
